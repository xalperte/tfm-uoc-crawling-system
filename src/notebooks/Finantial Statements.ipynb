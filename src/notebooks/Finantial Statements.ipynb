{
 "cells": [
  {
   "cell_type": "code",
   "execution_count": 11,
   "metadata": {},
   "outputs": [
    {
     "ename": "UnresolvableContactPoints",
     "evalue": "{}",
     "output_type": "error",
     "traceback": [
      "\u001b[0;31m---------------------------------------------------------------------------\u001b[0m",
      "\u001b[0;31mUnresolvableContactPoints\u001b[0m                 Traceback (most recent call last)",
      "\u001b[0;32m<ipython-input-11-4070c0c9c195>\u001b[0m in \u001b[0;36m<module>\u001b[0;34m\u001b[0m\n\u001b[1;32m      4\u001b[0m     \u001b[0;32mfrom\u001b[0m \u001b[0mcassandra\u001b[0m\u001b[0;34m.\u001b[0m\u001b[0mcluster\u001b[0m \u001b[0;32mimport\u001b[0m \u001b[0mCluster\u001b[0m\u001b[0;34m\u001b[0m\u001b[0;34m\u001b[0m\u001b[0m\n\u001b[1;32m      5\u001b[0m \u001b[0;34m\u001b[0m\u001b[0m\n\u001b[0;32m----> 6\u001b[0;31m \u001b[0mcluster\u001b[0m \u001b[0;34m=\u001b[0m \u001b[0mCluster\u001b[0m\u001b[0;34m(\u001b[0m\u001b[0;34m[\u001b[0m\u001b[0;34m'dse_seed_backend'\u001b[0m\u001b[0;34m]\u001b[0m\u001b[0;34m)\u001b[0m  \u001b[0;31m# provide contact points and port\u001b[0m\u001b[0;34m\u001b[0m\u001b[0;34m\u001b[0m\u001b[0m\n\u001b[0m\u001b[1;32m      7\u001b[0m \u001b[0msession\u001b[0m \u001b[0;34m=\u001b[0m \u001b[0mcluster\u001b[0m\u001b[0;34m.\u001b[0m\u001b[0mconnect\u001b[0m\u001b[0;34m(\u001b[0m\u001b[0;34m'davinci'\u001b[0m\u001b[0;34m)\u001b[0m\u001b[0;34m\u001b[0m\u001b[0;34m\u001b[0m\u001b[0m\n\u001b[1;32m      8\u001b[0m \u001b[0;34m\u001b[0m\u001b[0m\n",
      "\u001b[0;32m/opt/conda/lib/python3.7/site-packages/dse/cluster.cpython-37m-x86_64-linux-gnu.so\u001b[0m in \u001b[0;36mdse.cluster.Cluster.__init__\u001b[0;34m()\u001b[0m\n",
      "\u001b[0;31mUnresolvableContactPoints\u001b[0m: {}"
     ]
    }
   ],
   "source": [
    "try:\n",
    "    from dse.cluster import Cluster\n",
    "except ImportError:\n",
    "    from cassandra.cluster import Cluster\n",
    "\n",
    "cluster = Cluster(['dse_seed_backend'])  # provide contact points and port\n",
    "session = cluster.connect('davinci')\n",
    "\n",
    "import pandas as pd"
   ]
  },
  {
   "cell_type": "code",
   "execution_count": 5,
   "metadata": {},
   "outputs": [
    {
     "name": "stdout",
     "output_type": "stream",
     "text": [
      "/bin/sh: 1: jt: not found\r\n"
     ]
    }
   ],
   "source": [
    "#!pip install jupyterthemes\n",
    "!jt -t grade3"
   ]
  },
  {
   "cell_type": "code",
   "execution_count": 6,
   "metadata": {},
   "outputs": [],
   "source": [
    "from dateutil.parser import parse as parse_date"
   ]
  },
  {
   "cell_type": "code",
   "execution_count": 7,
   "metadata": {},
   "outputs": [
    {
     "data": {
      "text/html": [
       "<div>\n",
       "<style scoped>\n",
       "    .dataframe tbody tr th:only-of-type {\n",
       "        vertical-align: middle;\n",
       "    }\n",
       "\n",
       "    .dataframe tbody tr th {\n",
       "        vertical-align: top;\n",
       "    }\n",
       "\n",
       "    .dataframe thead th {\n",
       "        text-align: right;\n",
       "    }\n",
       "</style>\n",
       "<table border=\"1\" class=\"dataframe\">\n",
       "  <thead>\n",
       "    <tr style=\"text-align: right;\">\n",
       "      <th></th>\n",
       "      <th>ccvm</th>\n",
       "      <th>company_name</th>\n",
       "      <th>cnpj</th>\n",
       "    </tr>\n",
       "  </thead>\n",
       "  <tbody>\n",
       "    <tr>\n",
       "      <th>0</th>\n",
       "      <td>516384</td>\n",
       "      <td>PACATUBA HORTIGRANJEIRA S/A</td>\n",
       "      <td>06.625.313/0001-11</td>\n",
       "    </tr>\n",
       "    <tr>\n",
       "      <th>1</th>\n",
       "      <td>24163</td>\n",
       "      <td>PACIFIC RDSL PARTICIPAÇÕES S.A.</td>\n",
       "      <td>21.728.500/0001-14</td>\n",
       "    </tr>\n",
       "    <tr>\n",
       "      <th>2</th>\n",
       "      <td>80144</td>\n",
       "      <td>PACIFIC RUBIALES ENERGY CORP</td>\n",
       "      <td>-</td>\n",
       "    </tr>\n",
       "    <tr>\n",
       "      <th>3</th>\n",
       "      <td>13749</td>\n",
       "      <td>PAES MENDONCA SA</td>\n",
       "      <td>15.132.731/0001-68</td>\n",
       "    </tr>\n",
       "    <tr>\n",
       "      <th>4</th>\n",
       "      <td>509280</td>\n",
       "      <td>PAGRISA - PARÁ PASTORIL E AGRÍCOLA S/A</td>\n",
       "      <td>05.459.177/0001-74</td>\n",
       "    </tr>\n",
       "    <tr>\n",
       "      <th>5</th>\n",
       "      <td>505013</td>\n",
       "      <td>PAIAGUAS HOTEIS SA</td>\n",
       "      <td>01.982.156/0001-88</td>\n",
       "    </tr>\n",
       "    <tr>\n",
       "      <th>6</th>\n",
       "      <td>504025</td>\n",
       "      <td>PAIBASA PROJS AGRI IRRIG BA SA</td>\n",
       "      <td>12.908.232/0001-21</td>\n",
       "    </tr>\n",
       "    <tr>\n",
       "      <th>7</th>\n",
       "      <td>501972</td>\n",
       "      <td>PAINEIS INDUSTRIAIS DO NE SA</td>\n",
       "      <td>07.760.663/0001-53</td>\n",
       "    </tr>\n",
       "    <tr>\n",
       "      <th>8</th>\n",
       "      <td>501964</td>\n",
       "      <td>PAJUCARA AGROPEC SA</td>\n",
       "      <td>11.500.485/0001-07</td>\n",
       "    </tr>\n",
       "    <tr>\n",
       "      <th>9</th>\n",
       "      <td>501468</td>\n",
       "      <td>PAJUÇARA CONFECÇÕES S/A</td>\n",
       "      <td>06.642.342/0001-91</td>\n",
       "    </tr>\n",
       "  </tbody>\n",
       "</table>\n",
       "</div>"
      ],
      "text/plain": [
       "     ccvm                            company_name                cnpj\n",
       "0  516384             PACATUBA HORTIGRANJEIRA S/A  06.625.313/0001-11\n",
       "1   24163         PACIFIC RDSL PARTICIPAÇÕES S.A.  21.728.500/0001-14\n",
       "2   80144            PACIFIC RUBIALES ENERGY CORP                   -\n",
       "3   13749                        PAES MENDONCA SA  15.132.731/0001-68\n",
       "4  509280  PAGRISA - PARÁ PASTORIL E AGRÍCOLA S/A  05.459.177/0001-74\n",
       "5  505013                      PAIAGUAS HOTEIS SA  01.982.156/0001-88\n",
       "6  504025          PAIBASA PROJS AGRI IRRIG BA SA  12.908.232/0001-21\n",
       "7  501972            PAINEIS INDUSTRIAIS DO NE SA  07.760.663/0001-53\n",
       "8  501964                     PAJUCARA AGROPEC SA  11.500.485/0001-07\n",
       "9  501468                 PAJUÇARA CONFECÇÕES S/A  06.642.342/0001-91"
      ]
     },
     "execution_count": 7,
     "metadata": {},
     "output_type": "execute_result"
    }
   ],
   "source": [
    "companies = session.execute(\"select ccvm, company_name, cnpj from bovespa_company;\")\n",
    "companies_df = pd.DataFrame(sorted(list(companies), key=lambda x: x.company_name))\n",
    "\n",
    "companies_df.head(10)"
   ]
  },
  {
   "cell_type": "code",
   "execution_count": 6,
   "metadata": {},
   "outputs": [
    {
     "data": {
      "text/plain": [
       "'Total number of companies: 401'"
      ]
     },
     "metadata": {},
     "output_type": "display_data"
    },
    {
     "data": {
      "text/html": [
       "<div>\n",
       "<style scoped>\n",
       "    .dataframe tbody tr th:only-of-type {\n",
       "        vertical-align: middle;\n",
       "    }\n",
       "\n",
       "    .dataframe tbody tr th {\n",
       "        vertical-align: top;\n",
       "    }\n",
       "\n",
       "    .dataframe thead th {\n",
       "        text-align: right;\n",
       "    }\n",
       "</style>\n",
       "<table border=\"1\" class=\"dataframe\">\n",
       "  <thead>\n",
       "    <tr style=\"text-align: right;\">\n",
       "      <th></th>\n",
       "      <th>type</th>\n",
       "      <th>ccvm</th>\n",
       "      <th>num_files</th>\n",
       "    </tr>\n",
       "  </thead>\n",
       "  <tbody>\n",
       "    <tr>\n",
       "      <td>0</td>\n",
       "      <td>Companies</td>\n",
       "      <td>11070</td>\n",
       "      <td>16.0</td>\n",
       "    </tr>\n",
       "    <tr>\n",
       "      <td>1</td>\n",
       "      <td>Companies</td>\n",
       "      <td>1155</td>\n",
       "      <td>16.0</td>\n",
       "    </tr>\n",
       "    <tr>\n",
       "      <td>2</td>\n",
       "      <td>Companies</td>\n",
       "      <td>15539</td>\n",
       "      <td>16.0</td>\n",
       "    </tr>\n",
       "    <tr>\n",
       "      <td>3</td>\n",
       "      <td>Companies</td>\n",
       "      <td>20346</td>\n",
       "      <td>16.0</td>\n",
       "    </tr>\n",
       "    <tr>\n",
       "      <td>4</td>\n",
       "      <td>Companies</td>\n",
       "      <td>22020</td>\n",
       "      <td>16.0</td>\n",
       "    </tr>\n",
       "    <tr>\n",
       "      <td>5</td>\n",
       "      <td>Companies</td>\n",
       "      <td>20567</td>\n",
       "      <td>15.0</td>\n",
       "    </tr>\n",
       "    <tr>\n",
       "      <td>6</td>\n",
       "      <td>Companies</td>\n",
       "      <td>1120</td>\n",
       "      <td>15.0</td>\n",
       "    </tr>\n",
       "    <tr>\n",
       "      <td>7</td>\n",
       "      <td>Companies</td>\n",
       "      <td>21342</td>\n",
       "      <td>14.0</td>\n",
       "    </tr>\n",
       "    <tr>\n",
       "      <td>8</td>\n",
       "      <td>Companies</td>\n",
       "      <td>21555</td>\n",
       "      <td>14.0</td>\n",
       "    </tr>\n",
       "    <tr>\n",
       "      <td>9</td>\n",
       "      <td>Companies</td>\n",
       "      <td>19658</td>\n",
       "      <td>14.0</td>\n",
       "    </tr>\n",
       "  </tbody>\n",
       "</table>\n",
       "</div>"
      ],
      "text/plain": [
       "        type   ccvm  num_files\n",
       "0  Companies  11070       16.0\n",
       "1  Companies   1155       16.0\n",
       "2  Companies  15539       16.0\n",
       "3  Companies  20346       16.0\n",
       "4  Companies  22020       16.0\n",
       "5  Companies  20567       15.0\n",
       "6  Companies   1120       15.0\n",
       "7  Companies  21342       14.0\n",
       "8  Companies  21555       14.0\n",
       "9  Companies  19658       14.0"
      ]
     },
     "execution_count": 6,
     "metadata": {},
     "output_type": "execute_result"
    }
   ],
   "source": [
    "import json\n",
    "\n",
    "        files_per_company = session.execute(\"select * from bovespa_company_file WHERE solr_query='{\\\"q\\\":\\\"*:*\\\", \\\"facet\\\": {\\\"field\\\": \\\"ccvm_exact\\\", \\\"limit\\\": 10000}}';\").one()\n",
    "files_per_company = json.loads(files_per_company.facet_fields)[\"ccvm_exact\"]\n",
    "files_per_company = pd.DataFrame([{\"type\": \"Companies\", \"ccvm\": ccvm, \"num_files\": round(num_files / 4, 0)} for ccvm, num_files in files_per_company.items()])\n",
    "display(\"Total number of companies: {}\".format(len(files_per_company)))\n",
    "\n",
    "files_per_company.head(10)"
   ]
  },
  {
   "cell_type": "code",
   "execution_count": 7,
   "metadata": {},
   "outputs": [
    {
     "data": {
      "application/vnd.vegalite.v3+json": {
       "$schema": "https://vega.github.io/schema/vega-lite/v3.4.0.json",
       "config": {
        "mark": {
         "tooltip": null
        },
        "view": {
         "height": 300,
         "width": 400
        }
       },
       "data": {
        "name": "data-39e3fb0b381b529aa29d82b7936b02a9"
       },
       "datasets": {
        "data-39e3fb0b381b529aa29d82b7936b02a9": [
         {
          "ccvm": "11070",
          "num_files": 16,
          "type": "Companies"
         },
         {
          "ccvm": "1155",
          "num_files": 16,
          "type": "Companies"
         },
         {
          "ccvm": "15539",
          "num_files": 16,
          "type": "Companies"
         },
         {
          "ccvm": "20346",
          "num_files": 16,
          "type": "Companies"
         },
         {
          "ccvm": "22020",
          "num_files": 16,
          "type": "Companies"
         },
         {
          "ccvm": "20567",
          "num_files": 15,
          "type": "Companies"
         },
         {
          "ccvm": "1120",
          "num_files": 15,
          "type": "Companies"
         },
         {
          "ccvm": "21342",
          "num_files": 14,
          "type": "Companies"
         },
         {
          "ccvm": "21555",
          "num_files": 14,
          "type": "Companies"
         },
         {
          "ccvm": "19658",
          "num_files": 14,
          "type": "Companies"
         },
         {
          "ccvm": "20621",
          "num_files": 14,
          "type": "Companies"
         },
         {
          "ccvm": "20532",
          "num_files": 14,
          "type": "Companies"
         },
         {
          "ccvm": "21636",
          "num_files": 14,
          "type": "Companies"
         },
         {
          "ccvm": "10880",
          "num_files": 14,
          "type": "Companies"
         },
         {
          "ccvm": "21490",
          "num_files": 14,
          "type": "Companies"
         },
         {
          "ccvm": "1023",
          "num_files": 14,
          "type": "Companies"
         },
         {
          "ccvm": "17450",
          "num_files": 14,
          "type": "Companies"
         },
         {
          "ccvm": "19445",
          "num_files": 14,
          "type": "Companies"
         },
         {
          "ccvm": "20478",
          "num_files": 14,
          "type": "Companies"
         },
         {
          "ccvm": "19569",
          "num_files": 13,
          "type": "Companies"
         },
         {
          "ccvm": "11398",
          "num_files": 13,
          "type": "Companies"
         },
         {
          "ccvm": "12319",
          "num_files": 13,
          "type": "Companies"
         },
         {
          "ccvm": "18627",
          "num_files": 13,
          "type": "Companies"
         },
         {
          "ccvm": "20575",
          "num_files": 13,
          "type": "Companies"
         },
         {
          "ccvm": "20435",
          "num_files": 13,
          "type": "Companies"
         },
         {
          "ccvm": "20524",
          "num_files": 13,
          "type": "Companies"
         },
         {
          "ccvm": "21717",
          "num_files": 13,
          "type": "Companies"
         },
         {
          "ccvm": "22071",
          "num_files": 13,
          "type": "Companies"
         },
         {
          "ccvm": "11762",
          "num_files": 12,
          "type": "Companies"
         },
         {
          "ccvm": "19550",
          "num_files": 12,
          "type": "Companies"
         },
         {
          "ccvm": "19763",
          "num_files": 12,
          "type": "Companies"
         },
         {
          "ccvm": "21300",
          "num_files": 12,
          "type": "Companies"
         },
         {
          "ccvm": "906",
          "num_files": 12,
          "type": "Companies"
         },
         {
          "ccvm": "11258",
          "num_files": 12,
          "type": "Companies"
         },
         {
          "ccvm": "16772",
          "num_files": 12,
          "type": "Companies"
         },
         {
          "ccvm": "19348",
          "num_files": 12,
          "type": "Companies"
         },
         {
          "ccvm": "20494",
          "num_files": 12,
          "type": "Companies"
         },
         {
          "ccvm": "21644",
          "num_files": 12,
          "type": "Companies"
         },
         {
          "ccvm": "22055",
          "num_files": 12,
          "type": "Companies"
         },
         {
          "ccvm": "4448",
          "num_files": 12,
          "type": "Companies"
         },
         {
          "ccvm": "10456",
          "num_files": 12,
          "type": "Companies"
         },
         {
          "ccvm": "14524",
          "num_files": 12,
          "type": "Companies"
         },
         {
          "ccvm": "2437",
          "num_files": 12,
          "type": "Companies"
         },
         {
          "ccvm": "3190",
          "num_files": 12,
          "type": "Companies"
         },
         {
          "ccvm": "6505",
          "num_files": 12,
          "type": "Companies"
         },
         {
          "ccvm": "1171",
          "num_files": 12,
          "type": "Companies"
         },
         {
          "ccvm": "16861",
          "num_files": 12,
          "type": "Companies"
         },
         {
          "ccvm": "18414",
          "num_files": 12,
          "type": "Companies"
         },
         {
          "ccvm": "18597",
          "num_files": 12,
          "type": "Companies"
         },
         {
          "ccvm": "19593",
          "num_files": 12,
          "type": "Companies"
         },
         {
          "ccvm": "21350",
          "num_files": 12,
          "type": "Companies"
         },
         {
          "ccvm": "21393",
          "num_files": 12,
          "type": "Companies"
         },
         {
          "ccvm": "21725",
          "num_files": 12,
          "type": "Companies"
         },
         {
          "ccvm": "21741",
          "num_files": 12,
          "type": "Companies"
         },
         {
          "ccvm": "21849",
          "num_files": 12,
          "type": "Companies"
         },
         {
          "ccvm": "10960",
          "num_files": 12,
          "type": "Companies"
         },
         {
          "ccvm": "16608",
          "num_files": 12,
          "type": "Companies"
         },
         {
          "ccvm": "16659",
          "num_files": 12,
          "type": "Companies"
         },
         {
          "ccvm": "19364",
          "num_files": 12,
          "type": "Companies"
         },
         {
          "ccvm": "14460",
          "num_files": 11,
          "type": "Companies"
         },
         {
          "ccvm": "18309",
          "num_files": 11,
          "type": "Companies"
         },
         {
          "ccvm": "19771",
          "num_files": 11,
          "type": "Companies"
         },
         {
          "ccvm": "19836",
          "num_files": 11,
          "type": "Companies"
         },
         {
          "ccvm": "20320",
          "num_files": 11,
          "type": "Companies"
         },
         {
          "ccvm": "21946",
          "num_files": 11,
          "type": "Companies"
         },
         {
          "ccvm": "4774",
          "num_files": 11,
          "type": "Companies"
         },
         {
          "ccvm": "5380",
          "num_files": 11,
          "type": "Companies"
         },
         {
          "ccvm": "14303",
          "num_files": 11,
          "type": "Companies"
         },
         {
          "ccvm": "14320",
          "num_files": 11,
          "type": "Companies"
         },
         {
          "ccvm": "14451",
          "num_files": 11,
          "type": "Companies"
         },
         {
          "ccvm": "15369",
          "num_files": 11,
          "type": "Companies"
         },
         {
          "ccvm": "16624",
          "num_files": 11,
          "type": "Companies"
         },
         {
          "ccvm": "17914",
          "num_files": 11,
          "type": "Companies"
         },
         {
          "ccvm": "18376",
          "num_files": 11,
          "type": "Companies"
         },
         {
          "ccvm": "18406",
          "num_files": 11,
          "type": "Companies"
         },
         {
          "ccvm": "18546",
          "num_files": 11,
          "type": "Companies"
         },
         {
          "ccvm": "19330",
          "num_files": 11,
          "type": "Companies"
         },
         {
          "ccvm": "21377",
          "num_files": 11,
          "type": "Companies"
         },
         {
          "ccvm": "21431",
          "num_files": 11,
          "type": "Companies"
         },
         {
          "ccvm": "21520",
          "num_files": 11,
          "type": "Companies"
         },
         {
          "ccvm": "4723",
          "num_files": 11,
          "type": "Companies"
         },
         {
          "ccvm": "11312",
          "num_files": 11,
          "type": "Companies"
         },
         {
          "ccvm": "15423",
          "num_files": 11,
          "type": "Companies"
         },
         {
          "ccvm": "15822",
          "num_files": 11,
          "type": "Companies"
         },
         {
          "ccvm": "16632",
          "num_files": 11,
          "type": "Companies"
         },
         {
          "ccvm": "18775",
          "num_files": 11,
          "type": "Companies"
         },
         {
          "ccvm": "20354",
          "num_files": 11,
          "type": "Companies"
         },
         {
          "ccvm": "20451",
          "num_files": 11,
          "type": "Companies"
         },
         {
          "ccvm": "20648",
          "num_files": 11,
          "type": "Companies"
         },
         {
          "ccvm": "21822",
          "num_files": 11,
          "type": "Companies"
         },
         {
          "ccvm": "21881",
          "num_files": 11,
          "type": "Companies"
         },
         {
          "ccvm": "11207",
          "num_files": 10,
          "type": "Companies"
         },
         {
          "ccvm": "14346",
          "num_files": 10,
          "type": "Companies"
         },
         {
          "ccvm": "15300",
          "num_files": 10,
          "type": "Companies"
         },
         {
          "ccvm": "16616",
          "num_files": 10,
          "type": "Companies"
         },
         {
          "ccvm": "19305",
          "num_files": 10,
          "type": "Companies"
         },
         {
          "ccvm": "19615",
          "num_files": 10,
          "type": "Companies"
         },
         {
          "ccvm": "21857",
          "num_files": 10,
          "type": "Companies"
         },
         {
          "ccvm": "22357",
          "num_files": 10,
          "type": "Companies"
         },
         {
          "ccvm": "11215",
          "num_files": 10,
          "type": "Companies"
         },
         {
          "ccvm": "11592",
          "num_files": 10,
          "type": "Companies"
         },
         {
          "ccvm": "14311",
          "num_files": 10,
          "type": "Companies"
         },
         {
          "ccvm": "14362",
          "num_files": 10,
          "type": "Companies"
         },
         {
          "ccvm": "15636",
          "num_files": 10,
          "type": "Companies"
         },
         {
          "ccvm": "1570",
          "num_files": 10,
          "type": "Companies"
         },
         {
          "ccvm": "1724",
          "num_files": 10,
          "type": "Companies"
         },
         {
          "ccvm": "17639",
          "num_files": 10,
          "type": "Companies"
         },
         {
          "ccvm": "17671",
          "num_files": 10,
          "type": "Companies"
         },
         {
          "ccvm": "17779",
          "num_files": 10,
          "type": "Companies"
         },
         {
          "ccvm": "17930",
          "num_files": 10,
          "type": "Companies"
         },
         {
          "ccvm": "20338",
          "num_files": 10,
          "type": "Companies"
         },
         {
          "ccvm": "22012",
          "num_files": 10,
          "type": "Companies"
         },
         {
          "ccvm": "22349",
          "num_files": 10,
          "type": "Companies"
         },
         {
          "ccvm": "4537",
          "num_files": 10,
          "type": "Companies"
         },
         {
          "ccvm": "4669",
          "num_files": 10,
          "type": "Companies"
         },
         {
          "ccvm": "4820",
          "num_files": 10,
          "type": "Companies"
         },
         {
          "ccvm": "4863",
          "num_files": 10,
          "type": "Companies"
         },
         {
          "ccvm": "80047",
          "num_files": 10,
          "type": "Companies"
         },
         {
          "ccvm": "11223",
          "num_files": 10,
          "type": "Companies"
         },
         {
          "ccvm": "12530",
          "num_files": 10,
          "type": "Companies"
         },
         {
          "ccvm": "14443",
          "num_files": 10,
          "type": "Companies"
         },
         {
          "ccvm": "15407",
          "num_files": 10,
          "type": "Companies"
         },
         {
          "ccvm": "15741",
          "num_files": 10,
          "type": "Companies"
         },
         {
          "ccvm": "16586",
          "num_files": 10,
          "type": "Companies"
         },
         {
          "ccvm": "1694",
          "num_files": 10,
          "type": "Companies"
         },
         {
          "ccvm": "17329",
          "num_files": 10,
          "type": "Companies"
         },
         {
          "ccvm": "17388",
          "num_files": 10,
          "type": "Companies"
         },
         {
          "ccvm": "18333",
          "num_files": 10,
          "type": "Companies"
         },
         {
          "ccvm": "19453",
          "num_files": 10,
          "type": "Companies"
         },
         {
          "ccvm": "19577",
          "num_files": 10,
          "type": "Companies"
         },
         {
          "ccvm": "19623",
          "num_files": 10,
          "type": "Companies"
         },
         {
          "ccvm": "20362",
          "num_files": 10,
          "type": "Companies"
         },
         {
          "ccvm": "20397",
          "num_files": 10,
          "type": "Companies"
         },
         {
          "ccvm": "20540",
          "num_files": 10,
          "type": "Companies"
         },
         {
          "ccvm": "21440",
          "num_files": 10,
          "type": "Companies"
         },
         {
          "ccvm": "21709",
          "num_files": 10,
          "type": "Companies"
         },
         {
          "ccvm": "21733",
          "num_files": 10,
          "type": "Companies"
         },
         {
          "ccvm": "21989",
          "num_files": 10,
          "type": "Companies"
         },
         {
          "ccvm": "4782",
          "num_files": 10,
          "type": "Companies"
         },
         {
          "ccvm": "5312",
          "num_files": 10,
          "type": "Companies"
         },
         {
          "ccvm": "6629",
          "num_files": 10,
          "type": "Companies"
         },
         {
          "ccvm": "6700",
          "num_files": 10,
          "type": "Companies"
         },
         {
          "ccvm": "7870",
          "num_files": 10,
          "type": "Companies"
         },
         {
          "ccvm": "15342",
          "num_files": 10,
          "type": "Companies"
         },
         {
          "ccvm": "15458",
          "num_files": 10,
          "type": "Companies"
         },
         {
          "ccvm": "16497",
          "num_files": 10,
          "type": "Companies"
         },
         {
          "ccvm": "16527",
          "num_files": 10,
          "type": "Companies"
         },
         {
          "ccvm": "16675",
          "num_files": 10,
          "type": "Companies"
         },
         {
          "ccvm": "16705",
          "num_files": 10,
          "type": "Companies"
         },
         {
          "ccvm": "16942",
          "num_files": 10,
          "type": "Companies"
         },
         {
          "ccvm": "18589",
          "num_files": 10,
          "type": "Companies"
         },
         {
          "ccvm": "18821",
          "num_files": 10,
          "type": "Companies"
         },
         {
          "ccvm": "19739",
          "num_files": 10,
          "type": "Companies"
         },
         {
          "ccvm": "19747",
          "num_files": 10,
          "type": "Companies"
         },
         {
          "ccvm": "20370",
          "num_files": 10,
          "type": "Companies"
         },
         {
          "ccvm": "21334",
          "num_files": 10,
          "type": "Companies"
         },
         {
          "ccvm": "21903",
          "num_files": 10,
          "type": "Companies"
         },
         {
          "ccvm": "21920",
          "num_files": 10,
          "type": "Companies"
         },
         {
          "ccvm": "22160",
          "num_files": 10,
          "type": "Companies"
         },
         {
          "ccvm": "4359",
          "num_files": 10,
          "type": "Companies"
         },
         {
          "ccvm": "5410",
          "num_files": 10,
          "type": "Companies"
         },
         {
          "ccvm": "80020",
          "num_files": 10,
          "type": "Companies"
         },
         {
          "ccvm": "9040",
          "num_files": 10,
          "type": "Companies"
         },
         {
          "ccvm": "11231",
          "num_files": 10,
          "type": "Companies"
         },
         {
          "ccvm": "13471",
          "num_files": 10,
          "type": "Companies"
         },
         {
          "ccvm": "1562",
          "num_files": 10,
          "type": "Companies"
         },
         {
          "ccvm": "15709",
          "num_files": 10,
          "type": "Companies"
         },
         {
          "ccvm": "16373",
          "num_files": 10,
          "type": "Companies"
         },
         {
          "ccvm": "16438",
          "num_files": 10,
          "type": "Companies"
         },
         {
          "ccvm": "16446",
          "num_files": 10,
          "type": "Companies"
         },
         {
          "ccvm": "16993",
          "num_files": 10,
          "type": "Companies"
         },
         {
          "ccvm": "17485",
          "num_files": 10,
          "type": "Companies"
         },
         {
          "ccvm": "17540",
          "num_files": 10,
          "type": "Companies"
         },
         {
          "ccvm": "17850",
          "num_files": 10,
          "type": "Companies"
         },
         {
          "ccvm": "17892",
          "num_files": 10,
          "type": "Companies"
         },
         {
          "ccvm": "17922",
          "num_files": 10,
          "type": "Companies"
         },
         {
          "ccvm": "18465",
          "num_files": 10,
          "type": "Companies"
         },
         {
          "ccvm": "18708",
          "num_files": 10,
          "type": "Companies"
         },
         {
          "ccvm": "18724",
          "num_files": 10,
          "type": "Companies"
         },
         {
          "ccvm": "18953",
          "num_files": 10,
          "type": "Companies"
         },
         {
          "ccvm": "19640",
          "num_files": 10,
          "type": "Companies"
         },
         {
          "ccvm": "20605",
          "num_files": 10,
          "type": "Companies"
         },
         {
          "ccvm": "21466",
          "num_files": 10,
          "type": "Companies"
         },
         {
          "ccvm": "21628",
          "num_files": 10,
          "type": "Companies"
         },
         {
          "ccvm": "21750",
          "num_files": 10,
          "type": "Companies"
         },
         {
          "ccvm": "21814",
          "num_files": 10,
          "type": "Companies"
         },
         {
          "ccvm": "21962",
          "num_files": 10,
          "type": "Companies"
         },
         {
          "ccvm": "22080",
          "num_files": 10,
          "type": "Companies"
         },
         {
          "ccvm": "22144",
          "num_files": 10,
          "type": "Companies"
         },
         {
          "ccvm": "23310",
          "num_files": 10,
          "type": "Companies"
         },
         {
          "ccvm": "3158",
          "num_files": 10,
          "type": "Companies"
         },
         {
          "ccvm": "4707",
          "num_files": 10,
          "type": "Companies"
         },
         {
          "ccvm": "80071",
          "num_files": 10,
          "type": "Companies"
         },
         {
          "ccvm": "10472",
          "num_files": 9,
          "type": "Companies"
         },
         {
          "ccvm": "13366",
          "num_files": 9,
          "type": "Companies"
         },
         {
          "ccvm": "15695",
          "num_files": 9,
          "type": "Companies"
         },
         {
          "ccvm": "15865",
          "num_files": 9,
          "type": "Companies"
         },
         {
          "ccvm": "1597",
          "num_files": 9,
          "type": "Companies"
         },
         {
          "ccvm": "16985",
          "num_files": 9,
          "type": "Companies"
         },
         {
          "ccvm": "17493",
          "num_files": 9,
          "type": "Companies"
         },
         {
          "ccvm": "17884",
          "num_files": 9,
          "type": "Companies"
         },
         {
          "ccvm": "17949",
          "num_files": 9,
          "type": "Companies"
         },
         {
          "ccvm": "18368",
          "num_files": 9,
          "type": "Companies"
         },
         {
          "ccvm": "18538",
          "num_files": 9,
          "type": "Companies"
         },
         {
          "ccvm": "18554",
          "num_files": 9,
          "type": "Companies"
         },
         {
          "ccvm": "18660",
          "num_files": 9,
          "type": "Companies"
         },
         {
          "ccvm": "18759",
          "num_files": 9,
          "type": "Companies"
         },
         {
          "ccvm": "20443",
          "num_files": 9,
          "type": "Companies"
         },
         {
          "ccvm": "20559",
          "num_files": 9,
          "type": "Companies"
         },
         {
          "ccvm": "20613",
          "num_files": 9,
          "type": "Companies"
         },
         {
          "ccvm": "20630",
          "num_files": 9,
          "type": "Companies"
         },
         {
          "ccvm": "20672",
          "num_files": 9,
          "type": "Companies"
         },
         {
          "ccvm": "21830",
          "num_files": 9,
          "type": "Companies"
         },
         {
          "ccvm": "21997",
          "num_files": 9,
          "type": "Companies"
         },
         {
          "ccvm": "22004",
          "num_files": 9,
          "type": "Companies"
         },
         {
          "ccvm": "4685",
          "num_files": 9,
          "type": "Companies"
         },
         {
          "ccvm": "13439",
          "num_files": 9,
          "type": "Companies"
         },
         {
          "ccvm": "15717",
          "num_files": 9,
          "type": "Companies"
         },
         {
          "ccvm": "15784",
          "num_files": 9,
          "type": "Companies"
         },
         {
          "ccvm": "16551",
          "num_files": 9,
          "type": "Companies"
         },
         {
          "ccvm": "16748",
          "num_files": 9,
          "type": "Companies"
         },
         {
          "ccvm": "17434",
          "num_files": 9,
          "type": "Companies"
         },
         {
          "ccvm": "17868",
          "num_files": 9,
          "type": "Companies"
         },
         {
          "ccvm": "18430",
          "num_files": 9,
          "type": "Companies"
         },
         {
          "ccvm": "19313",
          "num_files": 9,
          "type": "Companies"
         },
         {
          "ccvm": "19470",
          "num_files": 9,
          "type": "Companies"
         },
         {
          "ccvm": "21610",
          "num_files": 9,
          "type": "Companies"
         },
         {
          "ccvm": "4693",
          "num_files": 9,
          "type": "Companies"
         },
         {
          "ccvm": "4758",
          "num_files": 9,
          "type": "Companies"
         },
         {
          "ccvm": "5258",
          "num_files": 9,
          "type": "Companies"
         },
         {
          "ccvm": "10561",
          "num_files": 9,
          "type": "Companies"
         },
         {
          "ccvm": "13447",
          "num_files": 9,
          "type": "Companies"
         },
         {
          "ccvm": "16560",
          "num_files": 9,
          "type": "Companies"
         },
         {
          "ccvm": "17337",
          "num_files": 9,
          "type": "Companies"
         },
         {
          "ccvm": "19429",
          "num_files": 9,
          "type": "Companies"
         },
         {
          "ccvm": "19720",
          "num_files": 9,
          "type": "Companies"
         },
         {
          "ccvm": "20516",
          "num_files": 9,
          "type": "Companies"
         },
         {
          "ccvm": "21938",
          "num_files": 9,
          "type": "Companies"
         },
         {
          "ccvm": "19437",
          "num_files": 8,
          "type": "Companies"
         },
         {
          "ccvm": "15733",
          "num_files": 8,
          "type": "Companies"
         },
         {
          "ccvm": "16535",
          "num_files": 8,
          "type": "Companies"
         },
         {
          "ccvm": "17418",
          "num_files": 8,
          "type": "Companies"
         },
         {
          "ccvm": "17558",
          "num_files": 8,
          "type": "Companies"
         },
         {
          "ccvm": "22365",
          "num_files": 8,
          "type": "Companies"
         },
         {
          "ccvm": "23515",
          "num_files": 8,
          "type": "Companies"
         },
         {
          "ccvm": "19704",
          "num_files": 8,
          "type": "Companies"
         },
         {
          "ccvm": "19844",
          "num_files": 8,
          "type": "Companies"
         },
         {
          "ccvm": "21482",
          "num_files": 8,
          "type": "Companies"
         },
         {
          "ccvm": "23329",
          "num_files": 8,
          "type": "Companies"
         },
         {
          "ccvm": "23426",
          "num_files": 8,
          "type": "Companies"
         },
         {
          "ccvm": "18716",
          "num_files": 8,
          "type": "Companies"
         },
         {
          "ccvm": "23388",
          "num_files": 8,
          "type": "Companies"
         },
         {
          "ccvm": "80063",
          "num_files": 8,
          "type": "Companies"
         },
         {
          "ccvm": "15652",
          "num_files": 8,
          "type": "Companies"
         },
         {
          "ccvm": "17590",
          "num_files": 8,
          "type": "Companies"
         },
         {
          "ccvm": "21792",
          "num_files": 8,
          "type": "Companies"
         },
         {
          "ccvm": "23523",
          "num_files": 8,
          "type": "Companies"
         },
         {
          "ccvm": "19607",
          "num_files": 7,
          "type": "Companies"
         },
         {
          "ccvm": "1970",
          "num_files": 7,
          "type": "Companies"
         },
         {
          "ccvm": "20389",
          "num_files": 7,
          "type": "Companies"
         },
         {
          "ccvm": "21601",
          "num_files": 7,
          "type": "Companies"
         },
         {
          "ccvm": "23485",
          "num_files": 7,
          "type": "Companies"
         },
         {
          "ccvm": "1686",
          "num_files": 7,
          "type": "Companies"
         },
         {
          "ccvm": "19356",
          "num_files": 7,
          "type": "Companies"
         },
         {
          "ccvm": "20656",
          "num_files": 7,
          "type": "Companies"
         },
         {
          "ccvm": "22136",
          "num_files": 7,
          "type": "Companies"
         },
         {
          "ccvm": "15890",
          "num_files": 7,
          "type": "Companies"
         },
         {
          "ccvm": "17361",
          "num_files": 7,
          "type": "Companies"
         },
         {
          "ccvm": "23353",
          "num_files": 7,
          "type": "Companies"
         },
         {
          "ccvm": "23434",
          "num_files": 7,
          "type": "Companies"
         },
         {
          "ccvm": "23540",
          "num_files": 7,
          "type": "Companies"
         },
         {
          "ccvm": "19542",
          "num_files": 6,
          "type": "Companies"
         },
         {
          "ccvm": "22128",
          "num_files": 6,
          "type": "Companies"
         },
         {
          "ccvm": "23493",
          "num_files": 6,
          "type": "Companies"
         },
         {
          "ccvm": "23574",
          "num_files": 6,
          "type": "Companies"
         },
         {
          "ccvm": "9067",
          "num_files": 6,
          "type": "Companies"
         },
         {
          "ccvm": "15377",
          "num_files": 6,
          "type": "Companies"
         },
         {
          "ccvm": "19380",
          "num_files": 6,
          "type": "Companies"
         },
         {
          "ccvm": "19518",
          "num_files": 6,
          "type": "Companies"
         },
         {
          "ccvm": "20508",
          "num_files": 6,
          "type": "Companies"
         },
         {
          "ccvm": "21652",
          "num_files": 6,
          "type": "Companies"
         },
         {
          "ccvm": "23531",
          "num_files": 6,
          "type": "Companies"
         },
         {
          "ccvm": "11800",
          "num_files": 6,
          "type": "Companies"
         },
         {
          "ccvm": "18678",
          "num_files": 6,
          "type": "Companies"
         },
         {
          "ccvm": "18961",
          "num_files": 6,
          "type": "Companies"
         },
         {
          "ccvm": "21687",
          "num_files": 6,
          "type": "Companies"
         },
         {
          "ccvm": "23337",
          "num_files": 6,
          "type": "Companies"
         },
         {
          "ccvm": "23370",
          "num_files": 6,
          "type": "Companies"
         },
         {
          "ccvm": "23442",
          "num_files": 6,
          "type": "Companies"
         },
         {
          "ccvm": "23469",
          "num_files": 6,
          "type": "Companies"
         },
         {
          "ccvm": "23558",
          "num_files": 6,
          "type": "Companies"
         },
         {
          "ccvm": "19372",
          "num_files": 6,
          "type": "Companies"
         },
         {
          "ccvm": "23396",
          "num_files": 6,
          "type": "Companies"
         },
         {
          "ccvm": "23418",
          "num_files": 6,
          "type": "Companies"
         },
         {
          "ccvm": "23477",
          "num_files": 6,
          "type": "Companies"
         },
         {
          "ccvm": "3174",
          "num_files": 6,
          "type": "Companies"
         },
         {
          "ccvm": "10596",
          "num_files": 6,
          "type": "Companies"
         },
         {
          "ccvm": "18350",
          "num_files": 6,
          "type": "Companies"
         },
         {
          "ccvm": "19526",
          "num_files": 6,
          "type": "Companies"
         },
         {
          "ccvm": "19810",
          "num_files": 6,
          "type": "Companies"
         },
         {
          "ccvm": "2038",
          "num_files": 6,
          "type": "Companies"
         },
         {
          "ccvm": "21865",
          "num_files": 6,
          "type": "Companies"
         },
         {
          "ccvm": "22047",
          "num_files": 6,
          "type": "Companies"
         },
         {
          "ccvm": "22330",
          "num_files": 6,
          "type": "Companies"
         },
         {
          "ccvm": "23507",
          "num_files": 6,
          "type": "Companies"
         },
         {
          "ccvm": "17442",
          "num_files": 5,
          "type": "Companies"
         },
         {
          "ccvm": "19755",
          "num_files": 5,
          "type": "Companies"
         },
         {
          "ccvm": "21695",
          "num_files": 5,
          "type": "Companies"
         },
         {
          "ccvm": "21954",
          "num_files": 5,
          "type": "Companies"
         },
         {
          "ccvm": "15849",
          "num_files": 5,
          "type": "Companies"
         },
         {
          "ccvm": "16330",
          "num_files": 5,
          "type": "Companies"
         },
         {
          "ccvm": "16950",
          "num_files": 5,
          "type": "Companies"
         },
         {
          "ccvm": "19690",
          "num_files": 5,
          "type": "Companies"
         },
         {
          "ccvm": "23582",
          "num_files": 5,
          "type": "Companies"
         },
         {
          "ccvm": "18490",
          "num_files": 5,
          "type": "Companies"
         },
         {
          "ccvm": "22039",
          "num_files": 5,
          "type": "Companies"
         },
         {
          "ccvm": "23566",
          "num_files": 5,
          "type": "Companies"
         },
         {
          "ccvm": "14559",
          "num_files": 4,
          "type": "Companies"
         },
         {
          "ccvm": "17647",
          "num_files": 4,
          "type": "Companies"
         },
         {
          "ccvm": "17787",
          "num_files": 4,
          "type": "Companies"
         },
         {
          "ccvm": "5150",
          "num_files": 4,
          "type": "Companies"
         },
         {
          "ccvm": "18651",
          "num_files": 4,
          "type": "Companies"
         },
         {
          "ccvm": "19798",
          "num_files": 4,
          "type": "Companies"
         },
         {
          "ccvm": "21580",
          "num_files": 4,
          "type": "Companies"
         },
         {
          "ccvm": "21784",
          "num_files": 4,
          "type": "Companies"
         },
         {
          "ccvm": "23590",
          "num_files": 4,
          "type": "Companies"
         },
         {
          "ccvm": "19585",
          "num_files": 4,
          "type": "Companies"
         },
         {
          "ccvm": "23345",
          "num_files": 4,
          "type": "Companies"
         },
         {
          "ccvm": "7978",
          "num_files": 4,
          "type": "Companies"
         },
         {
          "ccvm": "21563",
          "num_files": 4,
          "type": "Companies"
         },
         {
          "ccvm": "3182",
          "num_files": 4,
          "type": "Companies"
         },
         {
          "ccvm": "21970",
          "num_files": 3,
          "type": "Companies"
         },
         {
          "ccvm": "22110",
          "num_files": 3,
          "type": "Companies"
         },
         {
          "ccvm": "24350",
          "num_files": 3,
          "type": "Companies"
         },
         {
          "ccvm": "11606",
          "num_files": 3,
          "type": "Companies"
         },
         {
          "ccvm": "21806",
          "num_files": 3,
          "type": "Companies"
         },
         {
          "ccvm": "23450",
          "num_files": 3,
          "type": "Companies"
         },
         {
          "ccvm": "24392",
          "num_files": 3,
          "type": "Companies"
         },
         {
          "ccvm": "21539",
          "num_files": 3,
          "type": "Companies"
         },
         {
          "ccvm": "24341",
          "num_files": 3,
          "type": "Companies"
         },
         {
          "ccvm": "20486",
          "num_files": 2,
          "type": "Companies"
         },
         {
          "ccvm": "24473",
          "num_files": 2,
          "type": "Companies"
         },
         {
          "ccvm": "24490",
          "num_files": 2,
          "type": "Companies"
         },
         {
          "ccvm": "6696",
          "num_files": 2,
          "type": "Companies"
         },
         {
          "ccvm": "80080",
          "num_files": 2,
          "type": "Companies"
         },
         {
          "ccvm": "17043",
          "num_files": 2,
          "type": "Companies"
         },
         {
          "ccvm": "17370",
          "num_files": 2,
          "type": "Companies"
         },
         {
          "ccvm": "17604",
          "num_files": 2,
          "type": "Companies"
         },
         {
          "ccvm": "18902",
          "num_files": 2,
          "type": "Companies"
         },
         {
          "ccvm": "18910",
          "num_files": 2,
          "type": "Companies"
         },
         {
          "ccvm": "18929",
          "num_files": 2,
          "type": "Companies"
         },
         {
          "ccvm": "24384",
          "num_files": 2,
          "type": "Companies"
         },
         {
          "ccvm": "24406",
          "num_files": 2,
          "type": "Companies"
         },
         {
          "ccvm": "16390",
          "num_files": 2,
          "type": "Companies"
         },
         {
          "ccvm": "16691",
          "num_files": 2,
          "type": "Companies"
         },
         {
          "ccvm": "20460",
          "num_files": 2,
          "type": "Companies"
         },
         {
          "ccvm": "2062",
          "num_files": 2,
          "type": "Companies"
         },
         {
          "ccvm": "21776",
          "num_files": 2,
          "type": "Companies"
         },
         {
          "ccvm": "24368",
          "num_files": 2,
          "type": "Companies"
         },
         {
          "ccvm": "24481",
          "num_files": 2,
          "type": "Companies"
         },
         {
          "ccvm": "11320",
          "num_files": 2,
          "type": "Companies"
         },
         {
          "ccvm": "18872",
          "num_files": 2,
          "type": "Companies"
         },
         {
          "ccvm": "19402",
          "num_files": 2,
          "type": "Companies"
         },
         {
          "ccvm": "20419",
          "num_files": 2,
          "type": "Companies"
         },
         {
          "ccvm": "22101",
          "num_files": 2,
          "type": "Companies"
         },
         {
          "ccvm": "22306",
          "num_files": 2,
          "type": "Companies"
         },
         {
          "ccvm": "22322",
          "num_files": 2,
          "type": "Companies"
         },
         {
          "ccvm": "24422",
          "num_files": 2,
          "type": "Companies"
         },
         {
          "ccvm": "24430",
          "num_files": 2,
          "type": "Companies"
         },
         {
          "ccvm": "24457",
          "num_files": 2,
          "type": "Companies"
         },
         {
          "ccvm": "17710",
          "num_files": 2,
          "type": "Companies"
         },
         {
          "ccvm": "4650",
          "num_files": 2,
          "type": "Companies"
         },
         {
          "ccvm": "16730",
          "num_files": 1,
          "type": "Companies"
         },
         {
          "ccvm": "17655",
          "num_files": 1,
          "type": "Companies"
         },
         {
          "ccvm": "19631",
          "num_files": 1,
          "type": "Companies"
         },
         {
          "ccvm": "21423",
          "num_files": 1,
          "type": "Companies"
         },
         {
          "ccvm": "21660",
          "num_files": 1,
          "type": "Companies"
         },
         {
          "ccvm": "22314",
          "num_files": 1,
          "type": "Companies"
         },
         {
          "ccvm": "23361",
          "num_files": 1,
          "type": "Companies"
         },
         {
          "ccvm": "23400",
          "num_files": 1,
          "type": "Companies"
         },
         {
          "ccvm": "24376",
          "num_files": 1,
          "type": "Companies"
         },
         {
          "ccvm": "24511",
          "num_files": 1,
          "type": "Companies"
         },
         {
          "ccvm": "24520",
          "num_files": 1,
          "type": "Companies"
         },
         {
          "ccvm": "15610",
          "num_files": 1,
          "type": "Companies"
         },
         {
          "ccvm": "19500",
          "num_files": 1,
          "type": "Companies"
         },
         {
          "ccvm": "21598",
          "num_files": 1,
          "type": "Companies"
         },
         {
          "ccvm": "22063",
          "num_files": 1,
          "type": "Companies"
         },
         {
          "ccvm": "24414",
          "num_files": 1,
          "type": "Companies"
         },
         {
          "ccvm": "80004",
          "num_files": 1,
          "type": "Companies"
         },
         {
          "ccvm": "14540",
          "num_files": 1,
          "type": "Companies"
         },
         {
          "ccvm": "15334",
          "num_files": 1,
          "type": "Companies"
         },
         {
          "ccvm": "18635",
          "num_files": 1,
          "type": "Companies"
         },
         {
          "ccvm": "20400",
          "num_files": 1,
          "type": "Companies"
         },
         {
          "ccvm": "22098",
          "num_files": 1,
          "type": "Companies"
         },
         {
          "ccvm": "24465",
          "num_files": 1,
          "type": "Companies"
         },
         {
          "ccvm": "24503",
          "num_files": 1,
          "type": "Companies"
         },
         {
          "ccvm": "19496",
          "num_files": 0,
          "type": "Companies"
         },
         {
          "ccvm": "21415",
          "num_files": 0,
          "type": "Companies"
         },
         {
          "ccvm": "22152",
          "num_files": 0,
          "type": "Companies"
         },
         {
          "ccvm": "24449",
          "num_files": 0,
          "type": "Companies"
         },
         {
          "ccvm": "19801",
          "num_files": 0,
          "type": "Companies"
         }
        ]
       },
       "layer": [
        {
         "encoding": {
          "x": {
           "axis": null,
           "bin": true,
           "field": "num_files",
           "type": "quantitative"
          },
          "y": {
           "aggregate": "count",
           "type": "quantitative"
          }
         },
         "mark": "bar"
        },
        {
         "encoding": {
          "size": {
           "value": 5
          },
          "x": {
           "aggregate": "mean",
           "field": "num_files",
           "type": "quantitative"
          }
         },
         "mark": {
          "color": "red",
          "type": "rule"
         }
        }
       ]
      },
      "image/png": "[encoded data removed]",
      "text/plain": [
       "<VegaLite 3 object>\n",
       "\n",
       "If you see this message, it means the renderer has not been properly enabled\n",
       "for the frontend that you are using. For more information, see\n",
       "https://altair-viz.github.io/user_guide/troubleshooting.html\n"
      ]
     },
     "execution_count": 7,
     "metadata": {},
     "output_type": "execute_result"
    }
   ],
   "source": [
    "import altair as alt\n",
    "\n",
    "bar = alt.Chart(files_per_company).mark_bar().encode(\n",
    "    alt.X('num_files:Q', bin=True, axis=None),\n",
    "    alt.Y('count()')\n",
    ")\n",
    "\n",
    "rule = alt.Chart(files_per_company).mark_rule(color='red').encode(\n",
    "    x='mean(num_files):Q',\n",
    "    size=alt.value(5)\n",
    ")\n",
    "\n",
    "bar + rule"
   ]
  },
  {
   "cell_type": "code",
   "execution_count": 8,
   "metadata": {},
   "outputs": [],
   "source": [
    "def boxplot_altair(data, x, y, xtype='N', ytype='Q',\n",
    "                   size=40, width=400):\n",
    "    \"\"\"\n",
    "    Python function to make boxplots in Altair\n",
    "    \"\"\"\n",
    "    # Define variables and their types using f-strings in Python\n",
    "    lower_box=f'q1({y}):{ytype}'\n",
    "    lower_whisker=f'min({y}):{ytype}'\n",
    "    upper_box=f'q3({y}):{ytype}'\n",
    "    upper_whisker=f'max({y}):{ytype}'\n",
    "    median_whisker=f'median({y}):{ytype}'\n",
    "    x_data=f'{x}:{xtype}'\n",
    " \n",
    "    # lower plot\n",
    "    lower_plot = alt.Chart(data).mark_rule().encode(\n",
    "        y=alt.Y(lower_whisker, axis=alt.Axis(title=y)),\n",
    "        y2=lower_box,\n",
    "        x=x_data\n",
    "    ).properties(\n",
    "        width=width)\n",
    " \n",
    "    # middle plot\n",
    "    middle_plot = alt.Chart(data).mark_bar(size=size).encode(\n",
    "        y=lower_box,\n",
    "        y2=upper_box,\n",
    "        x=x_data\n",
    "    ).properties(\n",
    "        width=width)\n",
    " \n",
    "    # upper plot\n",
    "    upper_plot = alt.Chart(data).mark_rule().encode(\n",
    "        y=upper_whisker,\n",
    "        y2=upper_box,\n",
    "        x=x_data\n",
    "    ).properties(\n",
    "        width=width)\n",
    "     \n",
    "    # median marker line\n",
    "    middle_tick = alt.Chart(data).mark_tick(\n",
    "        color='white',\n",
    "        size=size\n",
    "    ).encode(\n",
    "        y=median_whisker,\n",
    "        x=x_data,\n",
    "    )\n",
    "     \n",
    "    # combine all the elements of boxplot to a single chart object\n",
    "    chart = lower_plot + middle_plot + upper_plot + middle_tick\n",
    "     \n",
    "    # return chart object\n",
    "    return chart"
   ]
  },
  {
   "cell_type": "code",
   "execution_count": 9,
   "metadata": {},
   "outputs": [
    {
     "data": {
      "application/vnd.vegalite.v3+json": {
       "$schema": "https://vega.github.io/schema/vega-lite/v3.4.0.json",
       "config": {
        "mark": {
         "tooltip": null
        },
        "view": {
         "height": 300,
         "width": 400
        }
       },
       "data": {
        "name": "data-39e3fb0b381b529aa29d82b7936b02a9"
       },
       "datasets": {
        "data-39e3fb0b381b529aa29d82b7936b02a9": [
         {
          "ccvm": "11070",
          "num_files": 16,
          "type": "Companies"
         },
         {
          "ccvm": "1155",
          "num_files": 16,
          "type": "Companies"
         },
         {
          "ccvm": "15539",
          "num_files": 16,
          "type": "Companies"
         },
         {
          "ccvm": "20346",
          "num_files": 16,
          "type": "Companies"
         },
         {
          "ccvm": "22020",
          "num_files": 16,
          "type": "Companies"
         },
         {
          "ccvm": "20567",
          "num_files": 15,
          "type": "Companies"
         },
         {
          "ccvm": "1120",
          "num_files": 15,
          "type": "Companies"
         },
         {
          "ccvm": "21342",
          "num_files": 14,
          "type": "Companies"
         },
         {
          "ccvm": "21555",
          "num_files": 14,
          "type": "Companies"
         },
         {
          "ccvm": "19658",
          "num_files": 14,
          "type": "Companies"
         },
         {
          "ccvm": "20621",
          "num_files": 14,
          "type": "Companies"
         },
         {
          "ccvm": "20532",
          "num_files": 14,
          "type": "Companies"
         },
         {
          "ccvm": "21636",
          "num_files": 14,
          "type": "Companies"
         },
         {
          "ccvm": "10880",
          "num_files": 14,
          "type": "Companies"
         },
         {
          "ccvm": "21490",
          "num_files": 14,
          "type": "Companies"
         },
         {
          "ccvm": "1023",
          "num_files": 14,
          "type": "Companies"
         },
         {
          "ccvm": "17450",
          "num_files": 14,
          "type": "Companies"
         },
         {
          "ccvm": "19445",
          "num_files": 14,
          "type": "Companies"
         },
         {
          "ccvm": "20478",
          "num_files": 14,
          "type": "Companies"
         },
         {
          "ccvm": "19569",
          "num_files": 13,
          "type": "Companies"
         },
         {
          "ccvm": "11398",
          "num_files": 13,
          "type": "Companies"
         },
         {
          "ccvm": "12319",
          "num_files": 13,
          "type": "Companies"
         },
         {
          "ccvm": "18627",
          "num_files": 13,
          "type": "Companies"
         },
         {
          "ccvm": "20575",
          "num_files": 13,
          "type": "Companies"
         },
         {
          "ccvm": "20435",
          "num_files": 13,
          "type": "Companies"
         },
         {
          "ccvm": "20524",
          "num_files": 13,
          "type": "Companies"
         },
         {
          "ccvm": "21717",
          "num_files": 13,
          "type": "Companies"
         },
         {
          "ccvm": "22071",
          "num_files": 13,
          "type": "Companies"
         },
         {
          "ccvm": "11762",
          "num_files": 12,
          "type": "Companies"
         },
         {
          "ccvm": "19550",
          "num_files": 12,
          "type": "Companies"
         },
         {
          "ccvm": "19763",
          "num_files": 12,
          "type": "Companies"
         },
         {
          "ccvm": "21300",
          "num_files": 12,
          "type": "Companies"
         },
         {
          "ccvm": "906",
          "num_files": 12,
          "type": "Companies"
         },
         {
          "ccvm": "11258",
          "num_files": 12,
          "type": "Companies"
         },
         {
          "ccvm": "16772",
          "num_files": 12,
          "type": "Companies"
         },
         {
          "ccvm": "19348",
          "num_files": 12,
          "type": "Companies"
         },
         {
          "ccvm": "20494",
          "num_files": 12,
          "type": "Companies"
         },
         {
          "ccvm": "21644",
          "num_files": 12,
          "type": "Companies"
         },
         {
          "ccvm": "22055",
          "num_files": 12,
          "type": "Companies"
         },
         {
          "ccvm": "4448",
          "num_files": 12,
          "type": "Companies"
         },
         {
          "ccvm": "10456",
          "num_files": 12,
          "type": "Companies"
         },
         {
          "ccvm": "14524",
          "num_files": 12,
          "type": "Companies"
         },
         {
          "ccvm": "2437",
          "num_files": 12,
          "type": "Companies"
         },
         {
          "ccvm": "3190",
          "num_files": 12,
          "type": "Companies"
         },
         {
          "ccvm": "6505",
          "num_files": 12,
          "type": "Companies"
         },
         {
          "ccvm": "1171",
          "num_files": 12,
          "type": "Companies"
         },
         {
          "ccvm": "16861",
          "num_files": 12,
          "type": "Companies"
         },
         {
          "ccvm": "18414",
          "num_files": 12,
          "type": "Companies"
         },
         {
          "ccvm": "18597",
          "num_files": 12,
          "type": "Companies"
         },
         {
          "ccvm": "19593",
          "num_files": 12,
          "type": "Companies"
         },
         {
          "ccvm": "21350",
          "num_files": 12,
          "type": "Companies"
         },
         {
          "ccvm": "21393",
          "num_files": 12,
          "type": "Companies"
         },
         {
          "ccvm": "21725",
          "num_files": 12,
          "type": "Companies"
         },
         {
          "ccvm": "21741",
          "num_files": 12,
          "type": "Companies"
         },
         {
          "ccvm": "21849",
          "num_files": 12,
          "type": "Companies"
         },
         {
          "ccvm": "10960",
          "num_files": 12,
          "type": "Companies"
         },
         {
          "ccvm": "16608",
          "num_files": 12,
          "type": "Companies"
         },
         {
          "ccvm": "16659",
          "num_files": 12,
          "type": "Companies"
         },
         {
          "ccvm": "19364",
          "num_files": 12,
          "type": "Companies"
         },
         {
          "ccvm": "14460",
          "num_files": 11,
          "type": "Companies"
         },
         {
          "ccvm": "18309",
          "num_files": 11,
          "type": "Companies"
         },
         {
          "ccvm": "19771",
          "num_files": 11,
          "type": "Companies"
         },
         {
          "ccvm": "19836",
          "num_files": 11,
          "type": "Companies"
         },
         {
          "ccvm": "20320",
          "num_files": 11,
          "type": "Companies"
         },
         {
          "ccvm": "21946",
          "num_files": 11,
          "type": "Companies"
         },
         {
          "ccvm": "4774",
          "num_files": 11,
          "type": "Companies"
         },
         {
          "ccvm": "5380",
          "num_files": 11,
          "type": "Companies"
         },
         {
          "ccvm": "14303",
          "num_files": 11,
          "type": "Companies"
         },
         {
          "ccvm": "14320",
          "num_files": 11,
          "type": "Companies"
         },
         {
          "ccvm": "14451",
          "num_files": 11,
          "type": "Companies"
         },
         {
          "ccvm": "15369",
          "num_files": 11,
          "type": "Companies"
         },
         {
          "ccvm": "16624",
          "num_files": 11,
          "type": "Companies"
         },
         {
          "ccvm": "17914",
          "num_files": 11,
          "type": "Companies"
         },
         {
          "ccvm": "18376",
          "num_files": 11,
          "type": "Companies"
         },
         {
          "ccvm": "18406",
          "num_files": 11,
          "type": "Companies"
         },
         {
          "ccvm": "18546",
          "num_files": 11,
          "type": "Companies"
         },
         {
          "ccvm": "19330",
          "num_files": 11,
          "type": "Companies"
         },
         {
          "ccvm": "21377",
          "num_files": 11,
          "type": "Companies"
         },
         {
          "ccvm": "21431",
          "num_files": 11,
          "type": "Companies"
         },
         {
          "ccvm": "21520",
          "num_files": 11,
          "type": "Companies"
         },
         {
          "ccvm": "4723",
          "num_files": 11,
          "type": "Companies"
         },
         {
          "ccvm": "11312",
          "num_files": 11,
          "type": "Companies"
         },
         {
          "ccvm": "15423",
          "num_files": 11,
          "type": "Companies"
         },
         {
          "ccvm": "15822",
          "num_files": 11,
          "type": "Companies"
         },
         {
          "ccvm": "16632",
          "num_files": 11,
          "type": "Companies"
         },
         {
          "ccvm": "18775",
          "num_files": 11,
          "type": "Companies"
         },
         {
          "ccvm": "20354",
          "num_files": 11,
          "type": "Companies"
         },
         {
          "ccvm": "20451",
          "num_files": 11,
          "type": "Companies"
         },
         {
          "ccvm": "20648",
          "num_files": 11,
          "type": "Companies"
         },
         {
          "ccvm": "21822",
          "num_files": 11,
          "type": "Companies"
         },
         {
          "ccvm": "21881",
          "num_files": 11,
          "type": "Companies"
         },
         {
          "ccvm": "11207",
          "num_files": 10,
          "type": "Companies"
         },
         {
          "ccvm": "14346",
          "num_files": 10,
          "type": "Companies"
         },
         {
          "ccvm": "15300",
          "num_files": 10,
          "type": "Companies"
         },
         {
          "ccvm": "16616",
          "num_files": 10,
          "type": "Companies"
         },
         {
          "ccvm": "19305",
          "num_files": 10,
          "type": "Companies"
         },
         {
          "ccvm": "19615",
          "num_files": 10,
          "type": "Companies"
         },
         {
          "ccvm": "21857",
          "num_files": 10,
          "type": "Companies"
         },
         {
          "ccvm": "22357",
          "num_files": 10,
          "type": "Companies"
         },
         {
          "ccvm": "11215",
          "num_files": 10,
          "type": "Companies"
         },
         {
          "ccvm": "11592",
          "num_files": 10,
          "type": "Companies"
         },
         {
          "ccvm": "14311",
          "num_files": 10,
          "type": "Companies"
         },
         {
          "ccvm": "14362",
          "num_files": 10,
          "type": "Companies"
         },
         {
          "ccvm": "15636",
          "num_files": 10,
          "type": "Companies"
         },
         {
          "ccvm": "1570",
          "num_files": 10,
          "type": "Companies"
         },
         {
          "ccvm": "1724",
          "num_files": 10,
          "type": "Companies"
         },
         {
          "ccvm": "17639",
          "num_files": 10,
          "type": "Companies"
         },
         {
          "ccvm": "17671",
          "num_files": 10,
          "type": "Companies"
         },
         {
          "ccvm": "17779",
          "num_files": 10,
          "type": "Companies"
         },
         {
          "ccvm": "17930",
          "num_files": 10,
          "type": "Companies"
         },
         {
          "ccvm": "20338",
          "num_files": 10,
          "type": "Companies"
         },
         {
          "ccvm": "22012",
          "num_files": 10,
          "type": "Companies"
         },
         {
          "ccvm": "22349",
          "num_files": 10,
          "type": "Companies"
         },
         {
          "ccvm": "4537",
          "num_files": 10,
          "type": "Companies"
         },
         {
          "ccvm": "4669",
          "num_files": 10,
          "type": "Companies"
         },
         {
          "ccvm": "4820",
          "num_files": 10,
          "type": "Companies"
         },
         {
          "ccvm": "4863",
          "num_files": 10,
          "type": "Companies"
         },
         {
          "ccvm": "80047",
          "num_files": 10,
          "type": "Companies"
         },
         {
          "ccvm": "11223",
          "num_files": 10,
          "type": "Companies"
         },
         {
          "ccvm": "12530",
          "num_files": 10,
          "type": "Companies"
         },
         {
          "ccvm": "14443",
          "num_files": 10,
          "type": "Companies"
         },
         {
          "ccvm": "15407",
          "num_files": 10,
          "type": "Companies"
         },
         {
          "ccvm": "15741",
          "num_files": 10,
          "type": "Companies"
         },
         {
          "ccvm": "16586",
          "num_files": 10,
          "type": "Companies"
         },
         {
          "ccvm": "1694",
          "num_files": 10,
          "type": "Companies"
         },
         {
          "ccvm": "17329",
          "num_files": 10,
          "type": "Companies"
         },
         {
          "ccvm": "17388",
          "num_files": 10,
          "type": "Companies"
         },
         {
          "ccvm": "18333",
          "num_files": 10,
          "type": "Companies"
         },
         {
          "ccvm": "19453",
          "num_files": 10,
          "type": "Companies"
         },
         {
          "ccvm": "19577",
          "num_files": 10,
          "type": "Companies"
         },
         {
          "ccvm": "19623",
          "num_files": 10,
          "type": "Companies"
         },
         {
          "ccvm": "20362",
          "num_files": 10,
          "type": "Companies"
         },
         {
          "ccvm": "20397",
          "num_files": 10,
          "type": "Companies"
         },
         {
          "ccvm": "20540",
          "num_files": 10,
          "type": "Companies"
         },
         {
          "ccvm": "21440",
          "num_files": 10,
          "type": "Companies"
         },
         {
          "ccvm": "21709",
          "num_files": 10,
          "type": "Companies"
         },
         {
          "ccvm": "21733",
          "num_files": 10,
          "type": "Companies"
         },
         {
          "ccvm": "21989",
          "num_files": 10,
          "type": "Companies"
         },
         {
          "ccvm": "4782",
          "num_files": 10,
          "type": "Companies"
         },
         {
          "ccvm": "5312",
          "num_files": 10,
          "type": "Companies"
         },
         {
          "ccvm": "6629",
          "num_files": 10,
          "type": "Companies"
         },
         {
          "ccvm": "6700",
          "num_files": 10,
          "type": "Companies"
         },
         {
          "ccvm": "7870",
          "num_files": 10,
          "type": "Companies"
         },
         {
          "ccvm": "15342",
          "num_files": 10,
          "type": "Companies"
         },
         {
          "ccvm": "15458",
          "num_files": 10,
          "type": "Companies"
         },
         {
          "ccvm": "16497",
          "num_files": 10,
          "type": "Companies"
         },
         {
          "ccvm": "16527",
          "num_files": 10,
          "type": "Companies"
         },
         {
          "ccvm": "16675",
          "num_files": 10,
          "type": "Companies"
         },
         {
          "ccvm": "16705",
          "num_files": 10,
          "type": "Companies"
         },
         {
          "ccvm": "16942",
          "num_files": 10,
          "type": "Companies"
         },
         {
          "ccvm": "18589",
          "num_files": 10,
          "type": "Companies"
         },
         {
          "ccvm": "18821",
          "num_files": 10,
          "type": "Companies"
         },
         {
          "ccvm": "19739",
          "num_files": 10,
          "type": "Companies"
         },
         {
          "ccvm": "19747",
          "num_files": 10,
          "type": "Companies"
         },
         {
          "ccvm": "20370",
          "num_files": 10,
          "type": "Companies"
         },
         {
          "ccvm": "21334",
          "num_files": 10,
          "type": "Companies"
         },
         {
          "ccvm": "21903",
          "num_files": 10,
          "type": "Companies"
         },
         {
          "ccvm": "21920",
          "num_files": 10,
          "type": "Companies"
         },
         {
          "ccvm": "22160",
          "num_files": 10,
          "type": "Companies"
         },
         {
          "ccvm": "4359",
          "num_files": 10,
          "type": "Companies"
         },
         {
          "ccvm": "5410",
          "num_files": 10,
          "type": "Companies"
         },
         {
          "ccvm": "80020",
          "num_files": 10,
          "type": "Companies"
         },
         {
          "ccvm": "9040",
          "num_files": 10,
          "type": "Companies"
         },
         {
          "ccvm": "11231",
          "num_files": 10,
          "type": "Companies"
         },
         {
          "ccvm": "13471",
          "num_files": 10,
          "type": "Companies"
         },
         {
          "ccvm": "1562",
          "num_files": 10,
          "type": "Companies"
         },
         {
          "ccvm": "15709",
          "num_files": 10,
          "type": "Companies"
         },
         {
          "ccvm": "16373",
          "num_files": 10,
          "type": "Companies"
         },
         {
          "ccvm": "16438",
          "num_files": 10,
          "type": "Companies"
         },
         {
          "ccvm": "16446",
          "num_files": 10,
          "type": "Companies"
         },
         {
          "ccvm": "16993",
          "num_files": 10,
          "type": "Companies"
         },
         {
          "ccvm": "17485",
          "num_files": 10,
          "type": "Companies"
         },
         {
          "ccvm": "17540",
          "num_files": 10,
          "type": "Companies"
         },
         {
          "ccvm": "17850",
          "num_files": 10,
          "type": "Companies"
         },
         {
          "ccvm": "17892",
          "num_files": 10,
          "type": "Companies"
         },
         {
          "ccvm": "17922",
          "num_files": 10,
          "type": "Companies"
         },
         {
          "ccvm": "18465",
          "num_files": 10,
          "type": "Companies"
         },
         {
          "ccvm": "18708",
          "num_files": 10,
          "type": "Companies"
         },
         {
          "ccvm": "18724",
          "num_files": 10,
          "type": "Companies"
         },
         {
          "ccvm": "18953",
          "num_files": 10,
          "type": "Companies"
         },
         {
          "ccvm": "19640",
          "num_files": 10,
          "type": "Companies"
         },
         {
          "ccvm": "20605",
          "num_files": 10,
          "type": "Companies"
         },
         {
          "ccvm": "21466",
          "num_files": 10,
          "type": "Companies"
         },
         {
          "ccvm": "21628",
          "num_files": 10,
          "type": "Companies"
         },
         {
          "ccvm": "21750",
          "num_files": 10,
          "type": "Companies"
         },
         {
          "ccvm": "21814",
          "num_files": 10,
          "type": "Companies"
         },
         {
          "ccvm": "21962",
          "num_files": 10,
          "type": "Companies"
         },
         {
          "ccvm": "22080",
          "num_files": 10,
          "type": "Companies"
         },
         {
          "ccvm": "22144",
          "num_files": 10,
          "type": "Companies"
         },
         {
          "ccvm": "23310",
          "num_files": 10,
          "type": "Companies"
         },
         {
          "ccvm": "3158",
          "num_files": 10,
          "type": "Companies"
         },
         {
          "ccvm": "4707",
          "num_files": 10,
          "type": "Companies"
         },
         {
          "ccvm": "80071",
          "num_files": 10,
          "type": "Companies"
         },
         {
          "ccvm": "10472",
          "num_files": 9,
          "type": "Companies"
         },
         {
          "ccvm": "13366",
          "num_files": 9,
          "type": "Companies"
         },
         {
          "ccvm": "15695",
          "num_files": 9,
          "type": "Companies"
         },
         {
          "ccvm": "15865",
          "num_files": 9,
          "type": "Companies"
         },
         {
          "ccvm": "1597",
          "num_files": 9,
          "type": "Companies"
         },
         {
          "ccvm": "16985",
          "num_files": 9,
          "type": "Companies"
         },
         {
          "ccvm": "17493",
          "num_files": 9,
          "type": "Companies"
         },
         {
          "ccvm": "17884",
          "num_files": 9,
          "type": "Companies"
         },
         {
          "ccvm": "17949",
          "num_files": 9,
          "type": "Companies"
         },
         {
          "ccvm": "18368",
          "num_files": 9,
          "type": "Companies"
         },
         {
          "ccvm": "18538",
          "num_files": 9,
          "type": "Companies"
         },
         {
          "ccvm": "18554",
          "num_files": 9,
          "type": "Companies"
         },
         {
          "ccvm": "18660",
          "num_files": 9,
          "type": "Companies"
         },
         {
          "ccvm": "18759",
          "num_files": 9,
          "type": "Companies"
         },
         {
          "ccvm": "20443",
          "num_files": 9,
          "type": "Companies"
         },
         {
          "ccvm": "20559",
          "num_files": 9,
          "type": "Companies"
         },
         {
          "ccvm": "20613",
          "num_files": 9,
          "type": "Companies"
         },
         {
          "ccvm": "20630",
          "num_files": 9,
          "type": "Companies"
         },
         {
          "ccvm": "20672",
          "num_files": 9,
          "type": "Companies"
         },
         {
          "ccvm": "21830",
          "num_files": 9,
          "type": "Companies"
         },
         {
          "ccvm": "21997",
          "num_files": 9,
          "type": "Companies"
         },
         {
          "ccvm": "22004",
          "num_files": 9,
          "type": "Companies"
         },
         {
          "ccvm": "4685",
          "num_files": 9,
          "type": "Companies"
         },
         {
          "ccvm": "13439",
          "num_files": 9,
          "type": "Companies"
         },
         {
          "ccvm": "15717",
          "num_files": 9,
          "type": "Companies"
         },
         {
          "ccvm": "15784",
          "num_files": 9,
          "type": "Companies"
         },
         {
          "ccvm": "16551",
          "num_files": 9,
          "type": "Companies"
         },
         {
          "ccvm": "16748",
          "num_files": 9,
          "type": "Companies"
         },
         {
          "ccvm": "17434",
          "num_files": 9,
          "type": "Companies"
         },
         {
          "ccvm": "17868",
          "num_files": 9,
          "type": "Companies"
         },
         {
          "ccvm": "18430",
          "num_files": 9,
          "type": "Companies"
         },
         {
          "ccvm": "19313",
          "num_files": 9,
          "type": "Companies"
         },
         {
          "ccvm": "19470",
          "num_files": 9,
          "type": "Companies"
         },
         {
          "ccvm": "21610",
          "num_files": 9,
          "type": "Companies"
         },
         {
          "ccvm": "4693",
          "num_files": 9,
          "type": "Companies"
         },
         {
          "ccvm": "4758",
          "num_files": 9,
          "type": "Companies"
         },
         {
          "ccvm": "5258",
          "num_files": 9,
          "type": "Companies"
         },
         {
          "ccvm": "10561",
          "num_files": 9,
          "type": "Companies"
         },
         {
          "ccvm": "13447",
          "num_files": 9,
          "type": "Companies"
         },
         {
          "ccvm": "16560",
          "num_files": 9,
          "type": "Companies"
         },
         {
          "ccvm": "17337",
          "num_files": 9,
          "type": "Companies"
         },
         {
          "ccvm": "19429",
          "num_files": 9,
          "type": "Companies"
         },
         {
          "ccvm": "19720",
          "num_files": 9,
          "type": "Companies"
         },
         {
          "ccvm": "20516",
          "num_files": 9,
          "type": "Companies"
         },
         {
          "ccvm": "21938",
          "num_files": 9,
          "type": "Companies"
         },
         {
          "ccvm": "19437",
          "num_files": 8,
          "type": "Companies"
         },
         {
          "ccvm": "15733",
          "num_files": 8,
          "type": "Companies"
         },
         {
          "ccvm": "16535",
          "num_files": 8,
          "type": "Companies"
         },
         {
          "ccvm": "17418",
          "num_files": 8,
          "type": "Companies"
         },
         {
          "ccvm": "17558",
          "num_files": 8,
          "type": "Companies"
         },
         {
          "ccvm": "22365",
          "num_files": 8,
          "type": "Companies"
         },
         {
          "ccvm": "23515",
          "num_files": 8,
          "type": "Companies"
         },
         {
          "ccvm": "19704",
          "num_files": 8,
          "type": "Companies"
         },
         {
          "ccvm": "19844",
          "num_files": 8,
          "type": "Companies"
         },
         {
          "ccvm": "21482",
          "num_files": 8,
          "type": "Companies"
         },
         {
          "ccvm": "23329",
          "num_files": 8,
          "type": "Companies"
         },
         {
          "ccvm": "23426",
          "num_files": 8,
          "type": "Companies"
         },
         {
          "ccvm": "18716",
          "num_files": 8,
          "type": "Companies"
         },
         {
          "ccvm": "23388",
          "num_files": 8,
          "type": "Companies"
         },
         {
          "ccvm": "80063",
          "num_files": 8,
          "type": "Companies"
         },
         {
          "ccvm": "15652",
          "num_files": 8,
          "type": "Companies"
         },
         {
          "ccvm": "17590",
          "num_files": 8,
          "type": "Companies"
         },
         {
          "ccvm": "21792",
          "num_files": 8,
          "type": "Companies"
         },
         {
          "ccvm": "23523",
          "num_files": 8,
          "type": "Companies"
         },
         {
          "ccvm": "19607",
          "num_files": 7,
          "type": "Companies"
         },
         {
          "ccvm": "1970",
          "num_files": 7,
          "type": "Companies"
         },
         {
          "ccvm": "20389",
          "num_files": 7,
          "type": "Companies"
         },
         {
          "ccvm": "21601",
          "num_files": 7,
          "type": "Companies"
         },
         {
          "ccvm": "23485",
          "num_files": 7,
          "type": "Companies"
         },
         {
          "ccvm": "1686",
          "num_files": 7,
          "type": "Companies"
         },
         {
          "ccvm": "19356",
          "num_files": 7,
          "type": "Companies"
         },
         {
          "ccvm": "20656",
          "num_files": 7,
          "type": "Companies"
         },
         {
          "ccvm": "22136",
          "num_files": 7,
          "type": "Companies"
         },
         {
          "ccvm": "15890",
          "num_files": 7,
          "type": "Companies"
         },
         {
          "ccvm": "17361",
          "num_files": 7,
          "type": "Companies"
         },
         {
          "ccvm": "23353",
          "num_files": 7,
          "type": "Companies"
         },
         {
          "ccvm": "23434",
          "num_files": 7,
          "type": "Companies"
         },
         {
          "ccvm": "23540",
          "num_files": 7,
          "type": "Companies"
         },
         {
          "ccvm": "19542",
          "num_files": 6,
          "type": "Companies"
         },
         {
          "ccvm": "22128",
          "num_files": 6,
          "type": "Companies"
         },
         {
          "ccvm": "23493",
          "num_files": 6,
          "type": "Companies"
         },
         {
          "ccvm": "23574",
          "num_files": 6,
          "type": "Companies"
         },
         {
          "ccvm": "9067",
          "num_files": 6,
          "type": "Companies"
         },
         {
          "ccvm": "15377",
          "num_files": 6,
          "type": "Companies"
         },
         {
          "ccvm": "19380",
          "num_files": 6,
          "type": "Companies"
         },
         {
          "ccvm": "19518",
          "num_files": 6,
          "type": "Companies"
         },
         {
          "ccvm": "20508",
          "num_files": 6,
          "type": "Companies"
         },
         {
          "ccvm": "21652",
          "num_files": 6,
          "type": "Companies"
         },
         {
          "ccvm": "23531",
          "num_files": 6,
          "type": "Companies"
         },
         {
          "ccvm": "11800",
          "num_files": 6,
          "type": "Companies"
         },
         {
          "ccvm": "18678",
          "num_files": 6,
          "type": "Companies"
         },
         {
          "ccvm": "18961",
          "num_files": 6,
          "type": "Companies"
         },
         {
          "ccvm": "21687",
          "num_files": 6,
          "type": "Companies"
         },
         {
          "ccvm": "23337",
          "num_files": 6,
          "type": "Companies"
         },
         {
          "ccvm": "23370",
          "num_files": 6,
          "type": "Companies"
         },
         {
          "ccvm": "23442",
          "num_files": 6,
          "type": "Companies"
         },
         {
          "ccvm": "23469",
          "num_files": 6,
          "type": "Companies"
         },
         {
          "ccvm": "23558",
          "num_files": 6,
          "type": "Companies"
         },
         {
          "ccvm": "19372",
          "num_files": 6,
          "type": "Companies"
         },
         {
          "ccvm": "23396",
          "num_files": 6,
          "type": "Companies"
         },
         {
          "ccvm": "23418",
          "num_files": 6,
          "type": "Companies"
         },
         {
          "ccvm": "23477",
          "num_files": 6,
          "type": "Companies"
         },
         {
          "ccvm": "3174",
          "num_files": 6,
          "type": "Companies"
         },
         {
          "ccvm": "10596",
          "num_files": 6,
          "type": "Companies"
         },
         {
          "ccvm": "18350",
          "num_files": 6,
          "type": "Companies"
         },
         {
          "ccvm": "19526",
          "num_files": 6,
          "type": "Companies"
         },
         {
          "ccvm": "19810",
          "num_files": 6,
          "type": "Companies"
         },
         {
          "ccvm": "2038",
          "num_files": 6,
          "type": "Companies"
         },
         {
          "ccvm": "21865",
          "num_files": 6,
          "type": "Companies"
         },
         {
          "ccvm": "22047",
          "num_files": 6,
          "type": "Companies"
         },
         {
          "ccvm": "22330",
          "num_files": 6,
          "type": "Companies"
         },
         {
          "ccvm": "23507",
          "num_files": 6,
          "type": "Companies"
         },
         {
          "ccvm": "17442",
          "num_files": 5,
          "type": "Companies"
         },
         {
          "ccvm": "19755",
          "num_files": 5,
          "type": "Companies"
         },
         {
          "ccvm": "21695",
          "num_files": 5,
          "type": "Companies"
         },
         {
          "ccvm": "21954",
          "num_files": 5,
          "type": "Companies"
         },
         {
          "ccvm": "15849",
          "num_files": 5,
          "type": "Companies"
         },
         {
          "ccvm": "16330",
          "num_files": 5,
          "type": "Companies"
         },
         {
          "ccvm": "16950",
          "num_files": 5,
          "type": "Companies"
         },
         {
          "ccvm": "19690",
          "num_files": 5,
          "type": "Companies"
         },
         {
          "ccvm": "23582",
          "num_files": 5,
          "type": "Companies"
         },
         {
          "ccvm": "18490",
          "num_files": 5,
          "type": "Companies"
         },
         {
          "ccvm": "22039",
          "num_files": 5,
          "type": "Companies"
         },
         {
          "ccvm": "23566",
          "num_files": 5,
          "type": "Companies"
         },
         {
          "ccvm": "14559",
          "num_files": 4,
          "type": "Companies"
         },
         {
          "ccvm": "17647",
          "num_files": 4,
          "type": "Companies"
         },
         {
          "ccvm": "17787",
          "num_files": 4,
          "type": "Companies"
         },
         {
          "ccvm": "5150",
          "num_files": 4,
          "type": "Companies"
         },
         {
          "ccvm": "18651",
          "num_files": 4,
          "type": "Companies"
         },
         {
          "ccvm": "19798",
          "num_files": 4,
          "type": "Companies"
         },
         {
          "ccvm": "21580",
          "num_files": 4,
          "type": "Companies"
         },
         {
          "ccvm": "21784",
          "num_files": 4,
          "type": "Companies"
         },
         {
          "ccvm": "23590",
          "num_files": 4,
          "type": "Companies"
         },
         {
          "ccvm": "19585",
          "num_files": 4,
          "type": "Companies"
         },
         {
          "ccvm": "23345",
          "num_files": 4,
          "type": "Companies"
         },
         {
          "ccvm": "7978",
          "num_files": 4,
          "type": "Companies"
         },
         {
          "ccvm": "21563",
          "num_files": 4,
          "type": "Companies"
         },
         {
          "ccvm": "3182",
          "num_files": 4,
          "type": "Companies"
         },
         {
          "ccvm": "21970",
          "num_files": 3,
          "type": "Companies"
         },
         {
          "ccvm": "22110",
          "num_files": 3,
          "type": "Companies"
         },
         {
          "ccvm": "24350",
          "num_files": 3,
          "type": "Companies"
         },
         {
          "ccvm": "11606",
          "num_files": 3,
          "type": "Companies"
         },
         {
          "ccvm": "21806",
          "num_files": 3,
          "type": "Companies"
         },
         {
          "ccvm": "23450",
          "num_files": 3,
          "type": "Companies"
         },
         {
          "ccvm": "24392",
          "num_files": 3,
          "type": "Companies"
         },
         {
          "ccvm": "21539",
          "num_files": 3,
          "type": "Companies"
         },
         {
          "ccvm": "24341",
          "num_files": 3,
          "type": "Companies"
         },
         {
          "ccvm": "20486",
          "num_files": 2,
          "type": "Companies"
         },
         {
          "ccvm": "24473",
          "num_files": 2,
          "type": "Companies"
         },
         {
          "ccvm": "24490",
          "num_files": 2,
          "type": "Companies"
         },
         {
          "ccvm": "6696",
          "num_files": 2,
          "type": "Companies"
         },
         {
          "ccvm": "80080",
          "num_files": 2,
          "type": "Companies"
         },
         {
          "ccvm": "17043",
          "num_files": 2,
          "type": "Companies"
         },
         {
          "ccvm": "17370",
          "num_files": 2,
          "type": "Companies"
         },
         {
          "ccvm": "17604",
          "num_files": 2,
          "type": "Companies"
         },
         {
          "ccvm": "18902",
          "num_files": 2,
          "type": "Companies"
         },
         {
          "ccvm": "18910",
          "num_files": 2,
          "type": "Companies"
         },
         {
          "ccvm": "18929",
          "num_files": 2,
          "type": "Companies"
         },
         {
          "ccvm": "24384",
          "num_files": 2,
          "type": "Companies"
         },
         {
          "ccvm": "24406",
          "num_files": 2,
          "type": "Companies"
         },
         {
          "ccvm": "16390",
          "num_files": 2,
          "type": "Companies"
         },
         {
          "ccvm": "16691",
          "num_files": 2,
          "type": "Companies"
         },
         {
          "ccvm": "20460",
          "num_files": 2,
          "type": "Companies"
         },
         {
          "ccvm": "2062",
          "num_files": 2,
          "type": "Companies"
         },
         {
          "ccvm": "21776",
          "num_files": 2,
          "type": "Companies"
         },
         {
          "ccvm": "24368",
          "num_files": 2,
          "type": "Companies"
         },
         {
          "ccvm": "24481",
          "num_files": 2,
          "type": "Companies"
         },
         {
          "ccvm": "11320",
          "num_files": 2,
          "type": "Companies"
         },
         {
          "ccvm": "18872",
          "num_files": 2,
          "type": "Companies"
         },
         {
          "ccvm": "19402",
          "num_files": 2,
          "type": "Companies"
         },
         {
          "ccvm": "20419",
          "num_files": 2,
          "type": "Companies"
         },
         {
          "ccvm": "22101",
          "num_files": 2,
          "type": "Companies"
         },
         {
          "ccvm": "22306",
          "num_files": 2,
          "type": "Companies"
         },
         {
          "ccvm": "22322",
          "num_files": 2,
          "type": "Companies"
         },
         {
          "ccvm": "24422",
          "num_files": 2,
          "type": "Companies"
         },
         {
          "ccvm": "24430",
          "num_files": 2,
          "type": "Companies"
         },
         {
          "ccvm": "24457",
          "num_files": 2,
          "type": "Companies"
         },
         {
          "ccvm": "17710",
          "num_files": 2,
          "type": "Companies"
         },
         {
          "ccvm": "4650",
          "num_files": 2,
          "type": "Companies"
         },
         {
          "ccvm": "16730",
          "num_files": 1,
          "type": "Companies"
         },
         {
          "ccvm": "17655",
          "num_files": 1,
          "type": "Companies"
         },
         {
          "ccvm": "19631",
          "num_files": 1,
          "type": "Companies"
         },
         {
          "ccvm": "21423",
          "num_files": 1,
          "type": "Companies"
         },
         {
          "ccvm": "21660",
          "num_files": 1,
          "type": "Companies"
         },
         {
          "ccvm": "22314",
          "num_files": 1,
          "type": "Companies"
         },
         {
          "ccvm": "23361",
          "num_files": 1,
          "type": "Companies"
         },
         {
          "ccvm": "23400",
          "num_files": 1,
          "type": "Companies"
         },
         {
          "ccvm": "24376",
          "num_files": 1,
          "type": "Companies"
         },
         {
          "ccvm": "24511",
          "num_files": 1,
          "type": "Companies"
         },
         {
          "ccvm": "24520",
          "num_files": 1,
          "type": "Companies"
         },
         {
          "ccvm": "15610",
          "num_files": 1,
          "type": "Companies"
         },
         {
          "ccvm": "19500",
          "num_files": 1,
          "type": "Companies"
         },
         {
          "ccvm": "21598",
          "num_files": 1,
          "type": "Companies"
         },
         {
          "ccvm": "22063",
          "num_files": 1,
          "type": "Companies"
         },
         {
          "ccvm": "24414",
          "num_files": 1,
          "type": "Companies"
         },
         {
          "ccvm": "80004",
          "num_files": 1,
          "type": "Companies"
         },
         {
          "ccvm": "14540",
          "num_files": 1,
          "type": "Companies"
         },
         {
          "ccvm": "15334",
          "num_files": 1,
          "type": "Companies"
         },
         {
          "ccvm": "18635",
          "num_files": 1,
          "type": "Companies"
         },
         {
          "ccvm": "20400",
          "num_files": 1,
          "type": "Companies"
         },
         {
          "ccvm": "22098",
          "num_files": 1,
          "type": "Companies"
         },
         {
          "ccvm": "24465",
          "num_files": 1,
          "type": "Companies"
         },
         {
          "ccvm": "24503",
          "num_files": 1,
          "type": "Companies"
         },
         {
          "ccvm": "19496",
          "num_files": 0,
          "type": "Companies"
         },
         {
          "ccvm": "21415",
          "num_files": 0,
          "type": "Companies"
         },
         {
          "ccvm": "22152",
          "num_files": 0,
          "type": "Companies"
         },
         {
          "ccvm": "24449",
          "num_files": 0,
          "type": "Companies"
         },
         {
          "ccvm": "19801",
          "num_files": 0,
          "type": "Companies"
         }
        ]
       },
       "layer": [
        {
         "encoding": {
          "x": {
           "field": "",
           "type": "nominal"
          },
          "y": {
           "aggregate": "min",
           "axis": {
            "title": "num_files"
           },
           "field": "num_files",
           "type": "quantitative"
          },
          "y2": {
           "aggregate": "q1",
           "field": "num_files"
          }
         },
         "mark": "rule",
         "width": 200
        },
        {
         "encoding": {
          "x": {
           "field": "",
           "type": "nominal"
          },
          "y": {
           "aggregate": "q1",
           "field": "num_files",
           "type": "quantitative"
          },
          "y2": {
           "aggregate": "q3",
           "field": "num_files"
          }
         },
         "mark": {
          "size": 40,
          "type": "bar"
         },
         "width": 200
        },
        {
         "encoding": {
          "x": {
           "field": "",
           "type": "nominal"
          },
          "y": {
           "aggregate": "max",
           "field": "num_files",
           "type": "quantitative"
          },
          "y2": {
           "aggregate": "q3",
           "field": "num_files"
          }
         },
         "mark": "rule",
         "width": 200
        },
        {
         "encoding": {
          "x": {
           "field": "",
           "type": "nominal"
          },
          "y": {
           "aggregate": "median",
           "field": "num_files",
           "type": "quantitative"
          }
         },
         "mark": {
          "color": "white",
          "size": 40,
          "type": "tick"
         }
        }
       ]
      },
      "image/png": "[encoded data removed]",
      "text/plain": [
       "<VegaLite 3 object>\n",
       "\n",
       "If you see this message, it means the renderer has not been properly enabled\n",
       "for the frontend that you are using. For more information, see\n",
       "https://altair-viz.github.io/user_guide/troubleshooting.html\n"
      ]
     },
     "execution_count": 9,
     "metadata": {},
     "output_type": "execute_result"
    }
   ],
   "source": [
    "boxplot_altair(files_per_company, '', 'num_files', width=200)"
   ]
  },
  {
   "cell_type": "code",
   "execution_count": 9,
   "metadata": {},
   "outputs": [],
   "source": [
    "def show_accounts(company_ccvm, balance_type, financial_info_type, period):\n",
    "    global accounts\n",
    "    \n",
    "    print(company_ccvm)\n",
    "    params = [company_ccvm, balance_type, financial_info_type, \"{:%Y-%m-%d}\".format(period)]\n",
    "    rows = session.execute(\n",
    "        \"SELECT number, name, financial_info_type, balance_type, amount, comments FROM bovespa_account WHERE ccvm = %s AND balance_type = %s AND financial_info_type = %s AND period = %s;\",\n",
    "        parameters=params)\n",
    "    rows = list(rows)\n",
    "    if len(rows) > 0:\n",
    "        pd.set_option('display.max_rows', 200)\n",
    "        accounts = pd.DataFrame(list(rows))\n",
    "        display(accounts[[\"number\", \"name\", \"amount\", \"comments\"]])\n",
    "    else:\n",
    "        accounts = None\n",
    "        display(\"No information available\")"
   ]
  },
  {
   "cell_type": "code",
   "execution_count": 10,
   "metadata": {},
   "outputs": [],
   "source": [
    "from ipywidgets import interact, interactive, fixed, interact_manual\n",
    "import ipywidgets as widgets\n",
    "from IPython.display import display"
   ]
  },
  {
   "cell_type": "code",
   "execution_count": 11,
   "metadata": {},
   "outputs": [
    {
     "data": {
      "application/vnd.jupyter.widget-view+json": {
       "model_id": "fdcd5ff617f5433494f5193c2ea524e5",
       "version_major": 2,
       "version_minor": 0
      },
      "text/plain": [
       "VBox(children=(HBox(children=(Dropdown(description='Company CCVM:', options=(('3A COMPANHIA SECURITIZADORA', '…"
      ]
     },
     "metadata": {},
     "output_type": "display_data"
    }
   ],
   "source": [
    "companies_df_subset = subset = companies_df[['company_name', 'ccvm']]\n",
    "companies_options = [tuple(x) for x in companies_df_subset.values]\n",
    "\n",
    "style = {'description_width': 'initial'}\n",
    "\n",
    "company_ccvm_sel = widgets.Dropdown(\n",
    "    options=companies_options,\n",
    "    description='Company CCVM:',\n",
    "    disabled=False,\n",
    "    style=style\n",
    ")\n",
    "\n",
    "balance_type_options = [\n",
    "    (\"Capital (only Accumulated)\", \"IF\"),\n",
    "    (\"Balance Sheet - Assets\", \"ASSETS\"),\n",
    "    (\"Balance Sheet - Liabilities\", \"LIABILITIES\"),\n",
    "    (\"Income Statement (P&L)\", \"DRE\"), \n",
    "    (\"Comprehensive Income\", \"DRA\"),     \n",
    "    (\"Cash Flow Statement (Direct Method)\", \"DFC_MD\"),     \n",
    "    (\"Cash Flow Statement (Indirect Method)\", \"DFC_MI\"),     \n",
    "    (\"Equity and Cash\", \"DMPL\"),\n",
    "    (\"Statement of Added Value\", \"DVA\")    \n",
    "]\n",
    "\n",
    "balance_type_sel = widgets.Dropdown(\n",
    "    options=balance_type_options,\n",
    "    value='ASSETS',\n",
    "    description='Balance Type:',\n",
    "    disabled=False,\n",
    "    style=style\n",
    ")\n",
    "\n",
    "financial_info_type_sel = widgets.Dropdown(\n",
    "    options=[('Current', \"INSTANT\"), ('Accumulated', 'DURATION')],\n",
    "    value='INSTANT',\n",
    "    description='Financial Information Type:',\n",
    "    disabled=False,\n",
    "    style=style\n",
    ")\n",
    "\n",
    "period_sel = widgets.DatePicker(\n",
    "    description='Fiscal period',\n",
    "    value=parse_date(\"2013-06-30\"),\n",
    "    disabled=False,\n",
    "    style=style\n",
    ")\n",
    "\n",
    "# interact(show_accounts, company_ccvm=company_ccvm_sel, balance_type=balance_type_sel, financial_info_type=financial_info_type_sel, period=period_sel)\n",
    "\n",
    "out = widgets.interactive_output(show_accounts, {\n",
    "    'company_ccvm': company_ccvm_sel, \n",
    "    'balance_type': balance_type_sel, \n",
    "    'financial_info_type': financial_info_type_sel,\n",
    "    'period': period_sel})\n",
    "\n",
    "widgets.VBox([widgets.HBox([company_ccvm_sel, period_sel]), \n",
    "              widgets.HBox([balance_type_sel, financial_info_type_sel]),\n",
    "              out])"
   ]
  },
  {
   "cell_type": "markdown",
   "metadata": {},
   "source": [
    "# Indicators"
   ]
  },
  {
   "cell_type": "code",
   "execution_count": null,
   "metadata": {},
   "outputs": [],
   "source": []
  },
  {
   "cell_type": "markdown",
   "metadata": {},
   "source": [
    "# Indicators over time (time series)"
   ]
  },
  {
   "cell_type": "code",
   "execution_count": null,
   "metadata": {},
   "outputs": [],
   "source": []
  }
 ],
 "metadata": {
  "kernelspec": {
   "display_name": "Python 3",
   "language": "python",
   "name": "python3"
  },
  "language_info": {
   "codemirror_mode": {
    "name": "ipython",
    "version": 3
   },
   "file_extension": ".py",
   "mimetype": "text/x-python",
   "name": "python",
   "nbconvert_exporter": "python",
   "pygments_lexer": "ipython3",
   "version": "3.7.3"
  },
  "pycharm": {
   "stem_cell": {
    "cell_type": "raw",
    "metadata": {
     "collapsed": false
    },
    "source": []
   }
  }
 },
 "nbformat": 4,
 "nbformat_minor": 4
}
